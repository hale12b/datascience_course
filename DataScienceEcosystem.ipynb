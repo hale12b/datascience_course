{
 "cells": [
  {
   "cell_type": "markdown",
   "id": "5695f78a-d8a4-45b4-8b70-d0c05cf2d31d",
   "metadata": {},
   "source": [
    "# Data Science Tools and Ecosystem"
   ]
  },
  {
   "cell_type": "markdown",
   "id": "975ea2cd-b749-46bc-ac8c-c03b0b5f4b8e",
   "metadata": {},
   "source": [
    "In this notebook, Data Science Tools and Ecosystem are summarized."
   ]
  },
  {
   "cell_type": "markdown",
   "id": "97dd4df0-58ba-4e33-b674-5c020cd8d1b3",
   "metadata": {},
   "source": [
    "**Objectives:**\n",
    "- List Languages for Data Science\n",
    "- List Data Science Libraries\n",
    "- List Data Science Tools\n",
    "- Show Simple Calculations in Python"
   ]
  },
  {
   "cell_type": "markdown",
   "id": "6276dd20-4f45-4229-b59f-ab9235db52da",
   "metadata": {},
   "source": [
    "## Author\n",
    "Christopher Hale"
   ]
  },
  {
   "cell_type": "markdown",
   "id": "604bd51a-ebb2-40e2-8cee-d4e1a45b0209",
   "metadata": {},
   "source": [
    "Some of the popular languages that Data Scientists use are:\n",
    "1. Python\n",
    "2. R\n",
    "3. Julia"
   ]
  },
  {
   "cell_type": "markdown",
   "id": "47e181ed-cf3d-4edb-a190-d8bf76f8bca2",
   "metadata": {},
   "source": [
    "Some of the commonly used libraries used by Data Scientists include:\n",
    "1. NumPy\n",
    "2. Pandas\n",
    "3. Matplotlib"
   ]
  },
  {
   "cell_type": "markdown",
   "id": "b955971c-fe18-40b0-832c-a51f5565a985",
   "metadata": {},
   "source": [
    "| Data Science Tools |\n",
    "| ----------- |\n",
    "| GitHub |\n",
    "| R Studio |\n",
    "| Jupyter Notebooks |\n"
   ]
  },
  {
   "cell_type": "markdown",
   "id": "00e90a9e-c0a7-4631-93f0-35a420da8329",
   "metadata": {},
   "source": [
    "### Below are a few examples of evaluating arithmetic expressions in Python"
   ]
  },
  {
   "cell_type": "code",
   "execution_count": 1,
   "id": "230efdc1-368d-44c2-940c-c448aad8c45d",
   "metadata": {},
   "outputs": [
    {
     "data": {
      "text/plain": [
       "17"
      ]
     },
     "execution_count": 1,
     "metadata": {},
     "output_type": "execute_result"
    }
   ],
   "source": [
    "#This a simple arithmetic expression to mutiply then add integers\n",
    "(3*4)+5"
   ]
  },
  {
   "cell_type": "code",
   "execution_count": 3,
   "id": "dab0dd95-eecc-4169-9aea-1d30770826de",
   "metadata": {},
   "outputs": [
    {
     "name": "stdout",
     "output_type": "stream",
     "text": [
      "3.3333333333333335\n"
     ]
    }
   ],
   "source": [
    "#This will convert 200 minutes to hours by diving by 60\n",
    "minutes = 200\n",
    "hours = minutes/60\n",
    "print(hours)"
   ]
  },
  {
   "cell_type": "code",
   "execution_count": null,
   "id": "33b94978-93c9-4987-8677-147863600ee6",
   "metadata": {},
   "outputs": [],
   "source": []
  }
 ],
 "metadata": {
  "kernelspec": {
   "display_name": "Python 3 (ipykernel)",
   "language": "python",
   "name": "python3"
  },
  "language_info": {
   "codemirror_mode": {
    "name": "ipython",
    "version": 3
   },
   "file_extension": ".py",
   "mimetype": "text/x-python",
   "name": "python",
   "nbconvert_exporter": "python",
   "pygments_lexer": "ipython3",
   "version": "3.12.8"
  }
 },
 "nbformat": 4,
 "nbformat_minor": 5
}
